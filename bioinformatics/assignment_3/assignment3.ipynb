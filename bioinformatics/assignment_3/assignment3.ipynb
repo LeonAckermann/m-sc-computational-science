{
 "cells": [
  {
   "cell_type": "markdown",
   "metadata": {},
   "source": [
    "## BLAST procedure\n",
    "Initialize the BLOSSUM50 matrix"
   ]
  },
  {
   "cell_type": "code",
   "execution_count": 32,
   "metadata": {},
   "outputs": [],
   "source": [
    "import blosum as bl\n",
    "matrix = bl.BLOSUM(50)"
   ]
  },
  {
   "cell_type": "markdown",
   "metadata": {},
   "source": [
    "Initialize the given sequences"
   ]
  },
  {
   "cell_type": "code",
   "execution_count": 33,
   "metadata": {},
   "outputs": [],
   "source": [
    "sequence1 = \"CCYEKRRKHYCQHCNQWWV\"\n",
    "sequence2 = \"CCLVILPGHCDDIEW\""
   ]
  },
  {
   "cell_type": "markdown",
   "metadata": {},
   "source": [
    "The following code implements the algorithm to determine the High scores of the given sequences given a BLOSSUM matrix and a predefined width."
   ]
  },
  {
   "cell_type": "code",
   "execution_count": 34,
   "metadata": {},
   "outputs": [],
   "source": [
    "import numpy as np\n",
    "\n",
    "def get_wmer(sequence1, sequence2, w, matrix):\n",
    "    wmer = np.zeros((len(sequence2)-w+1, len(sequence1)-w+1))\n",
    "    for i in range(len(sequence2)-w+1):\n",
    "        for j in range(len(sequence1)-w+1):\n",
    "            score = 0\n",
    "            for k in range(w):\n",
    "                score += matrix[sequence2[i+k]][sequence1[j+k]]\n",
    "            wmer[i][j] = score\n",
    "    return wmer"
   ]
  },
  {
   "cell_type": "code",
   "execution_count": 35,
   "metadata": {},
   "outputs": [],
   "source": [
    "sequence1 = \"CCYEKRRKHYCQHCNQWWVEW\"\n",
    "sequence2 = \"CCLVILPGHCDDIEW\"\n",
    "matrix = bl.BLOSUM(50)\n",
    "wmer = get_wmer(sequence1, sequence2, 3, matrix)\n"
   ]
  },
  {
   "cell_type": "markdown",
   "metadata": {},
   "source": [
    "The algorithm determines the following matrix"
   ]
  },
  {
   "cell_type": "code",
   "execution_count": 111,
   "metadata": {},
   "outputs": [
    {
     "data": {
      "text/html": [
       "<div>\n",
       "<style scoped>\n",
       "    .dataframe tbody tr th:only-of-type {\n",
       "        vertical-align: middle;\n",
       "    }\n",
       "\n",
       "    .dataframe tbody tr th {\n",
       "        vertical-align: top;\n",
       "    }\n",
       "\n",
       "    .dataframe thead th {\n",
       "        text-align: right;\n",
       "    }\n",
       "</style>\n",
       "<table border=\"1\" class=\"dataframe\">\n",
       "  <thead>\n",
       "    <tr style=\"text-align: right;\">\n",
       "      <th></th>\n",
       "      <th>CCY</th>\n",
       "      <th>CYE</th>\n",
       "      <th>YEK</th>\n",
       "      <th>EKR</th>\n",
       "      <th>KRR</th>\n",
       "      <th>RRK</th>\n",
       "      <th>RKH</th>\n",
       "      <th>KHY</th>\n",
       "      <th>HYC</th>\n",
       "      <th>YCQ</th>\n",
       "      <th>CQH</th>\n",
       "      <th>QHC</th>\n",
       "      <th>HCN</th>\n",
       "      <th>CNQ</th>\n",
       "      <th>NQW</th>\n",
       "      <th>QWW</th>\n",
       "      <th>WWV</th>\n",
       "      <th>WVE</th>\n",
       "      <th>VEW</th>\n",
       "    </tr>\n",
       "  </thead>\n",
       "  <tbody>\n",
       "    <tr>\n",
       "      <th>CCL</th>\n",
       "      <td>25.0</td>\n",
       "      <td>7.0</td>\n",
       "      <td>-9.0</td>\n",
       "      <td>-9.0</td>\n",
       "      <td>-10.0</td>\n",
       "      <td>-11.0</td>\n",
       "      <td>-10.0</td>\n",
       "      <td>-7.0</td>\n",
       "      <td>-8.0</td>\n",
       "      <td>8.0</td>\n",
       "      <td>7.0</td>\n",
       "      <td>-8.0</td>\n",
       "      <td>6.0</td>\n",
       "      <td>9.0</td>\n",
       "      <td>-7.0</td>\n",
       "      <td>-10.0</td>\n",
       "      <td>-9.0</td>\n",
       "      <td>-9.0</td>\n",
       "      <td>-6.0</td>\n",
       "    </tr>\n",
       "    <tr>\n",
       "      <th>CLV</th>\n",
       "      <td>10.0</td>\n",
       "      <td>9.0</td>\n",
       "      <td>-9.0</td>\n",
       "      <td>-9.0</td>\n",
       "      <td>-9.0</td>\n",
       "      <td>-10.0</td>\n",
       "      <td>-11.0</td>\n",
       "      <td>-7.0</td>\n",
       "      <td>-5.0</td>\n",
       "      <td>-8.0</td>\n",
       "      <td>7.0</td>\n",
       "      <td>-7.0</td>\n",
       "      <td>-8.0</td>\n",
       "      <td>6.0</td>\n",
       "      <td>-7.0</td>\n",
       "      <td>-8.0</td>\n",
       "      <td>-2.0</td>\n",
       "      <td>-7.0</td>\n",
       "      <td>-7.0</td>\n",
       "    </tr>\n",
       "    <tr>\n",
       "      <th>LVI</th>\n",
       "      <td>-4.0</td>\n",
       "      <td>-7.0</td>\n",
       "      <td>-7.0</td>\n",
       "      <td>-10.0</td>\n",
       "      <td>-10.0</td>\n",
       "      <td>-9.0</td>\n",
       "      <td>-10.0</td>\n",
       "      <td>-8.0</td>\n",
       "      <td>-6.0</td>\n",
       "      <td>-5.0</td>\n",
       "      <td>-9.0</td>\n",
       "      <td>-8.0</td>\n",
       "      <td>-7.0</td>\n",
       "      <td>-8.0</td>\n",
       "      <td>-10.0</td>\n",
       "      <td>-8.0</td>\n",
       "      <td>-1.0</td>\n",
       "      <td>-1.0</td>\n",
       "      <td>-5.0</td>\n",
       "    </tr>\n",
       "    <tr>\n",
       "      <th>VIL</th>\n",
       "      <td>-4.0</td>\n",
       "      <td>-5.0</td>\n",
       "      <td>-8.0</td>\n",
       "      <td>-9.0</td>\n",
       "      <td>-10.0</td>\n",
       "      <td>-10.0</td>\n",
       "      <td>-9.0</td>\n",
       "      <td>-8.0</td>\n",
       "      <td>-7.0</td>\n",
       "      <td>-5.0</td>\n",
       "      <td>-7.0</td>\n",
       "      <td>-9.0</td>\n",
       "      <td>-10.0</td>\n",
       "      <td>-6.0</td>\n",
       "      <td>-8.0</td>\n",
       "      <td>-8.0</td>\n",
       "      <td>-5.0</td>\n",
       "      <td>-2.0</td>\n",
       "      <td>-1.0</td>\n",
       "    </tr>\n",
       "    <tr>\n",
       "      <th>ILP</th>\n",
       "      <td>-7.0</td>\n",
       "      <td>-4.0</td>\n",
       "      <td>-5.0</td>\n",
       "      <td>-10.0</td>\n",
       "      <td>-9.0</td>\n",
       "      <td>-8.0</td>\n",
       "      <td>-9.0</td>\n",
       "      <td>-9.0</td>\n",
       "      <td>-9.0</td>\n",
       "      <td>-4.0</td>\n",
       "      <td>-6.0</td>\n",
       "      <td>-10.0</td>\n",
       "      <td>-8.0</td>\n",
       "      <td>-7.0</td>\n",
       "      <td>-9.0</td>\n",
       "      <td>-9.0</td>\n",
       "      <td>-8.0</td>\n",
       "      <td>-3.0</td>\n",
       "      <td>-3.0</td>\n",
       "    </tr>\n",
       "    <tr>\n",
       "      <th>LPG</th>\n",
       "      <td>-9.0</td>\n",
       "      <td>-8.0</td>\n",
       "      <td>-4.0</td>\n",
       "      <td>-7.0</td>\n",
       "      <td>-9.0</td>\n",
       "      <td>-8.0</td>\n",
       "      <td>-6.0</td>\n",
       "      <td>-8.0</td>\n",
       "      <td>-9.0</td>\n",
       "      <td>-7.0</td>\n",
       "      <td>-5.0</td>\n",
       "      <td>-7.0</td>\n",
       "      <td>-7.0</td>\n",
       "      <td>-6.0</td>\n",
       "      <td>-8.0</td>\n",
       "      <td>-9.0</td>\n",
       "      <td>-10.0</td>\n",
       "      <td>-8.0</td>\n",
       "      <td>-3.0</td>\n",
       "    </tr>\n",
       "    <tr>\n",
       "      <th>PGH</th>\n",
       "      <td>-5.0</td>\n",
       "      <td>-7.0</td>\n",
       "      <td>-6.0</td>\n",
       "      <td>-3.0</td>\n",
       "      <td>-4.0</td>\n",
       "      <td>-6.0</td>\n",
       "      <td>5.0</td>\n",
       "      <td>-1.0</td>\n",
       "      <td>-8.0</td>\n",
       "      <td>-5.0</td>\n",
       "      <td>4.0</td>\n",
       "      <td>-6.0</td>\n",
       "      <td>-4.0</td>\n",
       "      <td>-3.0</td>\n",
       "      <td>-7.0</td>\n",
       "      <td>-7.0</td>\n",
       "      <td>-11.0</td>\n",
       "      <td>-8.0</td>\n",
       "      <td>-9.0</td>\n",
       "    </tr>\n",
       "    <tr>\n",
       "      <th>GHC</th>\n",
       "      <td>-9.0</td>\n",
       "      <td>-4.0</td>\n",
       "      <td>-6.0</td>\n",
       "      <td>-7.0</td>\n",
       "      <td>-6.0</td>\n",
       "      <td>-6.0</td>\n",
       "      <td>-6.0</td>\n",
       "      <td>5.0</td>\n",
       "      <td>13.0</td>\n",
       "      <td>-9.0</td>\n",
       "      <td>-5.0</td>\n",
       "      <td>21.0</td>\n",
       "      <td>-7.0</td>\n",
       "      <td>-5.0</td>\n",
       "      <td>-4.0</td>\n",
       "      <td>-10.0</td>\n",
       "      <td>-7.0</td>\n",
       "      <td>-10.0</td>\n",
       "      <td>-9.0</td>\n",
       "    </tr>\n",
       "    <tr>\n",
       "      <th>HCD</th>\n",
       "      <td>7.0</td>\n",
       "      <td>-4.0</td>\n",
       "      <td>-2.0</td>\n",
       "      <td>-5.0</td>\n",
       "      <td>-6.0</td>\n",
       "      <td>-5.0</td>\n",
       "      <td>-4.0</td>\n",
       "      <td>-6.0</td>\n",
       "      <td>3.0</td>\n",
       "      <td>15.0</td>\n",
       "      <td>-7.0</td>\n",
       "      <td>-6.0</td>\n",
       "      <td>25.0</td>\n",
       "      <td>-5.0</td>\n",
       "      <td>-7.0</td>\n",
       "      <td>-9.0</td>\n",
       "      <td>-12.0</td>\n",
       "      <td>-2.0</td>\n",
       "      <td>-12.0</td>\n",
       "    </tr>\n",
       "    <tr>\n",
       "      <th>CDD</th>\n",
       "      <td>6.0</td>\n",
       "      <td>12.0</td>\n",
       "      <td>-2.0</td>\n",
       "      <td>-6.0</td>\n",
       "      <td>-7.0</td>\n",
       "      <td>-7.0</td>\n",
       "      <td>-6.0</td>\n",
       "      <td>-7.0</td>\n",
       "      <td>-10.0</td>\n",
       "      <td>-7.0</td>\n",
       "      <td>12.0</td>\n",
       "      <td>-8.0</td>\n",
       "      <td>-5.0</td>\n",
       "      <td>15.0</td>\n",
       "      <td>-7.0</td>\n",
       "      <td>-13.0</td>\n",
       "      <td>-14.0</td>\n",
       "      <td>-7.0</td>\n",
       "      <td>-4.0</td>\n",
       "    </tr>\n",
       "    <tr>\n",
       "      <th>DDI</th>\n",
       "      <td>-9.0</td>\n",
       "      <td>-11.0</td>\n",
       "      <td>-4.0</td>\n",
       "      <td>-3.0</td>\n",
       "      <td>-7.0</td>\n",
       "      <td>-7.0</td>\n",
       "      <td>-7.0</td>\n",
       "      <td>-3.0</td>\n",
       "      <td>-6.0</td>\n",
       "      <td>-10.0</td>\n",
       "      <td>-8.0</td>\n",
       "      <td>-3.0</td>\n",
       "      <td>-8.0</td>\n",
       "      <td>-5.0</td>\n",
       "      <td>-1.0</td>\n",
       "      <td>-8.0</td>\n",
       "      <td>-6.0</td>\n",
       "      <td>-13.0</td>\n",
       "      <td>-5.0</td>\n",
       "    </tr>\n",
       "    <tr>\n",
       "      <th>DIE</th>\n",
       "      <td>-8.0</td>\n",
       "      <td>1.0</td>\n",
       "      <td>-6.0</td>\n",
       "      <td>-1.0</td>\n",
       "      <td>-5.0</td>\n",
       "      <td>-5.0</td>\n",
       "      <td>-5.0</td>\n",
       "      <td>-7.0</td>\n",
       "      <td>-5.0</td>\n",
       "      <td>-3.0</td>\n",
       "      <td>-7.0</td>\n",
       "      <td>-7.0</td>\n",
       "      <td>-3.0</td>\n",
       "      <td>-5.0</td>\n",
       "      <td>-4.0</td>\n",
       "      <td>-6.0</td>\n",
       "      <td>-11.0</td>\n",
       "      <td>5.0</td>\n",
       "      <td>-11.0</td>\n",
       "    </tr>\n",
       "    <tr>\n",
       "      <th>IEW</th>\n",
       "      <td>-3.0</td>\n",
       "      <td>-7.0</td>\n",
       "      <td>2.0</td>\n",
       "      <td>-6.0</td>\n",
       "      <td>-6.0</td>\n",
       "      <td>-7.0</td>\n",
       "      <td>-6.0</td>\n",
       "      <td>-1.0</td>\n",
       "      <td>-11.0</td>\n",
       "      <td>-5.0</td>\n",
       "      <td>-3.0</td>\n",
       "      <td>-8.0</td>\n",
       "      <td>-11.0</td>\n",
       "      <td>-3.0</td>\n",
       "      <td>14.0</td>\n",
       "      <td>9.0</td>\n",
       "      <td>-9.0</td>\n",
       "      <td>-9.0</td>\n",
       "      <td>25.0</td>\n",
       "    </tr>\n",
       "  </tbody>\n",
       "</table>\n",
       "</div>"
      ],
      "text/plain": [
       "      CCY   CYE  YEK   EKR   KRR   RRK   RKH  KHY   HYC   YCQ   CQH   QHC   \n",
       "CCL  25.0   7.0 -9.0  -9.0 -10.0 -11.0 -10.0 -7.0  -8.0   8.0   7.0  -8.0  \\\n",
       "CLV  10.0   9.0 -9.0  -9.0  -9.0 -10.0 -11.0 -7.0  -5.0  -8.0   7.0  -7.0   \n",
       "LVI  -4.0  -7.0 -7.0 -10.0 -10.0  -9.0 -10.0 -8.0  -6.0  -5.0  -9.0  -8.0   \n",
       "VIL  -4.0  -5.0 -8.0  -9.0 -10.0 -10.0  -9.0 -8.0  -7.0  -5.0  -7.0  -9.0   \n",
       "ILP  -7.0  -4.0 -5.0 -10.0  -9.0  -8.0  -9.0 -9.0  -9.0  -4.0  -6.0 -10.0   \n",
       "LPG  -9.0  -8.0 -4.0  -7.0  -9.0  -8.0  -6.0 -8.0  -9.0  -7.0  -5.0  -7.0   \n",
       "PGH  -5.0  -7.0 -6.0  -3.0  -4.0  -6.0   5.0 -1.0  -8.0  -5.0   4.0  -6.0   \n",
       "GHC  -9.0  -4.0 -6.0  -7.0  -6.0  -6.0  -6.0  5.0  13.0  -9.0  -5.0  21.0   \n",
       "HCD   7.0  -4.0 -2.0  -5.0  -6.0  -5.0  -4.0 -6.0   3.0  15.0  -7.0  -6.0   \n",
       "CDD   6.0  12.0 -2.0  -6.0  -7.0  -7.0  -6.0 -7.0 -10.0  -7.0  12.0  -8.0   \n",
       "DDI  -9.0 -11.0 -4.0  -3.0  -7.0  -7.0  -7.0 -3.0  -6.0 -10.0  -8.0  -3.0   \n",
       "DIE  -8.0   1.0 -6.0  -1.0  -5.0  -5.0  -5.0 -7.0  -5.0  -3.0  -7.0  -7.0   \n",
       "IEW  -3.0  -7.0  2.0  -6.0  -6.0  -7.0  -6.0 -1.0 -11.0  -5.0  -3.0  -8.0   \n",
       "\n",
       "      HCN   CNQ   NQW   QWW   WWV   WVE   VEW  \n",
       "CCL   6.0   9.0  -7.0 -10.0  -9.0  -9.0  -6.0  \n",
       "CLV  -8.0   6.0  -7.0  -8.0  -2.0  -7.0  -7.0  \n",
       "LVI  -7.0  -8.0 -10.0  -8.0  -1.0  -1.0  -5.0  \n",
       "VIL -10.0  -6.0  -8.0  -8.0  -5.0  -2.0  -1.0  \n",
       "ILP  -8.0  -7.0  -9.0  -9.0  -8.0  -3.0  -3.0  \n",
       "LPG  -7.0  -6.0  -8.0  -9.0 -10.0  -8.0  -3.0  \n",
       "PGH  -4.0  -3.0  -7.0  -7.0 -11.0  -8.0  -9.0  \n",
       "GHC  -7.0  -5.0  -4.0 -10.0  -7.0 -10.0  -9.0  \n",
       "HCD  25.0  -5.0  -7.0  -9.0 -12.0  -2.0 -12.0  \n",
       "CDD  -5.0  15.0  -7.0 -13.0 -14.0  -7.0  -4.0  \n",
       "DDI  -8.0  -5.0  -1.0  -8.0  -6.0 -13.0  -5.0  \n",
       "DIE  -3.0  -5.0  -4.0  -6.0 -11.0   5.0 -11.0  \n",
       "IEW -11.0  -3.0  14.0   9.0  -9.0  -9.0  25.0  "
      ]
     },
     "execution_count": 111,
     "metadata": {},
     "output_type": "execute_result"
    }
   ],
   "source": [
    "import pandas as pd\n",
    "def get_subsequences(sequence1, w):\n",
    "    subsequences = []\n",
    "    for i in range(len(sequence1)-w+1):\n",
    "        subsequences.append(sequence1[i:i+w])\n",
    "    return subsequences\n",
    "\n",
    "row_labels = get_subsequences(sequence2, 3)\n",
    "column_labels = get_subsequences(sequence1, 3)\n",
    "\n",
    "df = pd.DataFrame(wmer, index=row_labels, columns=column_labels)\n",
    "df"
   ]
  },
  {
   "cell_type": "markdown",
   "metadata": {},
   "source": [
    "The HSPs with an acceptance threshold of >= 25 can be found at the following indices"
   ]
  },
  {
   "cell_type": "code",
   "execution_count": 40,
   "metadata": {},
   "outputs": [
    {
     "data": {
      "text/plain": [
       "array([[ 0,  0],\n",
       "       [ 8, 12],\n",
       "       [12, 18]])"
      ]
     },
     "execution_count": 40,
     "metadata": {},
     "output_type": "execute_result"
    }
   ],
   "source": [
    "indices = np.argwhere(wmer >= 25)\n",
    "indices"
   ]
  },
  {
   "cell_type": "code",
   "execution_count": null,
   "metadata": {},
   "outputs": [],
   "source": [
    "\n",
    "\n",
    "subsequences1 = get_subsequences(sequence1, 3)\n",
    "subsequences2 = get_subsequences(sequence2, 3)"
   ]
  },
  {
   "cell_type": "markdown",
   "metadata": {},
   "source": [
    "The HSP above the predefined threshold are the following"
   ]
  },
  {
   "cell_type": "code",
   "execution_count": 22,
   "metadata": {},
   "outputs": [
    {
     "name": "stdout",
     "output_type": "stream",
     "text": [
      "First HSP: CCY CCL\n",
      "Second HSP: HCN HCD\n",
      "Third HSP: VEW IEW\n"
     ]
    }
   ],
   "source": [
    "print(\"First HSP:\", subsequences1[0], subsequences2[0])\n",
    "print(\"Second HSP:\",subsequences1[12], subsequences2[8])\n",
    "print(\"Third HSP:\",subsequences1[18], subsequences2[12])"
   ]
  },
  {
   "cell_type": "markdown",
   "metadata": {},
   "source": [
    "## PSSM procedure"
   ]
  },
  {
   "cell_type": "markdown",
   "metadata": {},
   "source": [
    "The sequences are initilialized"
   ]
  },
  {
   "cell_type": "code",
   "execution_count": 23,
   "metadata": {},
   "outputs": [],
   "source": [
    "rat = \"AGCAGAGAGTCAGTGAATACAGTGG\"\n",
    "cat = \"ATCTCCAGCCCCCAGGGGCCGGCGGG\"\n",
    "dog = \"CACATTTTCCTGAGGTGGGTCCTGTC\"\n",
    "deer = \"AAAATCCCAGTGACAGAGGAGCTTG\"\n",
    "cattle = \"AAAATCCCAGTGATAGAGGAGCCTG\""
   ]
  },
  {
   "cell_type": "markdown",
   "metadata": {},
   "source": [
    "The following code determines the frequency of nucleotides in the sequences"
   ]
  },
  {
   "cell_type": "code",
   "execution_count": null,
   "metadata": {},
   "outputs": [
    {
     "name": "stdout",
     "output_type": "stream",
     "text": [
      "Absolute frequencies:\n"
     ]
    },
    {
     "data": {
      "text/plain": [
       "{'A': array([5., 4., 3., 5., 1., 2., 2., 2., 3., 1., 1., 2., 4., 2., 3., 2., 4., 1., 2., 3., 2., 1., 1., 1., 1.]),\n",
       " 'C': array([2., 1., 4., 1., 2., 4., 3., 3., 3., 3., 3., 2., 2., 2., 1., 1., 1., 1., 2., 3., 2., 4., 3., 1., 1.]),\n",
       " 'G': array([1., 2., 1., 1., 2., 1., 2., 2., 2., 3., 1., 4., 2., 2., 4., 4., 3., 5., 4., 1., 4., 3., 1., 4., 5.]),\n",
       " 'T': array([1., 2., 1., 2., 4., 2., 2., 2., 1., 2., 4., 1., 1., 3., 1., 2., 1., 2., 1., 2., 1., 1., 4., 3., 2.])}"
      ]
     },
     "execution_count": 96,
     "metadata": {},
     "output_type": "execute_result"
    }
   ],
   "source": [
    "import numpy as np\n",
    "\n",
    "def get_freqs(sequences, b):\n",
    "    freqs = {base: np.zeros(len(sequences[0])) + b for base in [\"A\", \"C\", \"G\", \"T\"]}\n",
    "\n",
    "    for i in range(len(sequences)):\n",
    "        for j in range(len(sequences[0])):\n",
    "            freqs[sequences[i][j]][j] += 1\n",
    "    return freqs\n",
    "\n",
    "np.set_printoptions(precision=1, suppress=True, linewidth=150)\n",
    "\n",
    "\n",
    "freqs = get_freqs([rat, cat, dog, deer, cattle], 1)    \n",
    "print(\"Absolute frequencies:\")\n",
    "freqs\n"
   ]
  },
  {
   "cell_type": "markdown",
   "metadata": {},
   "source": [
    "We then determine the relative frequency of the nucleotides by dividing by the sum of counts in one column including the pseudocounts"
   ]
  },
  {
   "cell_type": "code",
   "execution_count": 97,
   "metadata": {},
   "outputs": [
    {
     "name": "stdout",
     "output_type": "stream",
     "text": [
      "Relative frequencies:\n"
     ]
    },
    {
     "data": {
      "text/plain": [
       "{'A': array([0.6, 0.4, 0.3, 0.6, 0.1, 0.2, 0.2, 0.2, 0.3, 0.1, 0.1, 0.2, 0.4, 0.2, 0.3, 0.2, 0.4, 0.1, 0.2, 0.3, 0.2, 0.1, 0.1, 0.1, 0.1]),\n",
       " 'C': array([0.2, 0.1, 0.4, 0.1, 0.2, 0.4, 0.3, 0.3, 0.3, 0.3, 0.3, 0.2, 0.2, 0.2, 0.1, 0.1, 0.1, 0.1, 0.2, 0.3, 0.2, 0.4, 0.3, 0.1, 0.1]),\n",
       " 'G': array([0.1, 0.2, 0.1, 0.1, 0.2, 0.1, 0.2, 0.2, 0.2, 0.3, 0.1, 0.4, 0.2, 0.2, 0.4, 0.4, 0.3, 0.6, 0.4, 0.1, 0.4, 0.3, 0.1, 0.4, 0.6]),\n",
       " 'T': array([0.1, 0.2, 0.1, 0.2, 0.4, 0.2, 0.2, 0.2, 0.1, 0.2, 0.4, 0.1, 0.1, 0.3, 0.1, 0.2, 0.1, 0.2, 0.1, 0.2, 0.1, 0.1, 0.4, 0.3, 0.2])}"
      ]
     },
     "execution_count": 97,
     "metadata": {},
     "output_type": "execute_result"
    }
   ],
   "source": [
    "def get_relative_freqs(freqs):\n",
    "    count = sum(np.array([freqs[i] for i in freqs.keys()])[:,0])\n",
    "    for key in freqs.keys():\n",
    "        freqs[key] = freqs[key]/count\n",
    "    return freqs\n",
    "\n",
    "relative_freqs = get_relative_freqs(freqs)\n",
    "print(\"Relative frequencies:\")\n",
    "relative_freqs"
   ]
  },
  {
   "cell_type": "markdown",
   "metadata": {},
   "source": [
    "Lastly, it is needed to compute the PSSM matrix $\\text{PSSM}_{i,j} = \\log_2 \\left( \\frac{\\text{relative\\_freqs}_{i,j}}{\\text{random\\_freqs}_i} \\right)\n",
    "$ where $i$ is the key of the nucleotide in the set $\\{0: A, 1: C, 2: G, 3: T\\}$ and $j$ is the position in the sequence"
   ]
  },
  {
   "cell_type": "code",
   "execution_count": 98,
   "metadata": {},
   "outputs": [],
   "source": [
    "import numpy as np\n",
    "\n",
    "def get_pssm(relative_freqs, random_freqs):\n",
    "    pssm = {base: np.zeros(len(relative_freqs[base])) for base in [\"A\", \"C\", \"G\", \"T\"]}\n",
    "    \n",
    "    for key in pssm.keys(): \n",
    "        for i in range(len(relative_freqs[key])):  \n",
    "            pssm[key][i] = np.log2(relative_freqs[key][i] / random_freqs[key])\n",
    "    \n",
    "    return pssm"
   ]
  },
  {
   "cell_type": "code",
   "execution_count": 108,
   "metadata": {},
   "outputs": [
    {
     "name": "stdout",
     "output_type": "stream",
     "text": [
      "PSSM:\n"
     ]
    },
    {
     "data": {
      "text/plain": [
       "{'A': array([ 1.2,  0.8,  0.4,  1.2, -1.2, -0.2, -0.2, -0.2,  0.4, -1.2, -1.2, -0.2,  0.8, -0.2,  0.4, -0.2,  0.8, -1.2, -0.2,  0.4, -0.2, -1.2, -1.2,\n",
       "        -1.2, -1.2]),\n",
       " 'C': array([-0.2, -1.2,  0.8, -1.2, -0.2,  0.8,  0.4,  0.4,  0.4,  0.4,  0.4, -0.2, -0.2, -0.2, -1.2, -1.2, -1.2, -1.2, -0.2,  0.4, -0.2,  0.8,  0.4,\n",
       "        -1.2, -1.2]),\n",
       " 'G': array([-1.2, -0.2, -1.2, -1.2, -0.2, -1.2, -0.2, -0.2, -0.2,  0.4, -1.2,  0.8, -0.2, -0.2,  0.8,  0.8,  0.4,  1.2,  0.8, -1.2,  0.8,  0.4, -1.2,\n",
       "         0.8,  1.2]),\n",
       " 'T': array([-1.2, -0.2, -1.2, -0.2,  0.8, -0.2, -0.2, -0.2, -1.2, -0.2,  0.8, -1.2, -1.2,  0.4, -1.2, -0.2, -1.2, -0.2, -1.2, -0.2, -1.2, -1.2,  0.8,\n",
       "         0.4, -0.2])}"
      ]
     },
     "execution_count": 108,
     "metadata": {},
     "output_type": "execute_result"
    }
   ],
   "source": [
    "random_freqs = {\"A\": 0.25, \"C\": 0.25, \"G\": 0.25, \"T\": 0.25}\n",
    "pssm = get_pssm(relative_freqs, random_freqs)\n",
    "np.set_printoptions(precision=1, suppress=True, linewidth=150)\n",
    "\n",
    "print(\"PSSM:\")\n",
    "pssm"
   ]
  },
  {
   "cell_type": "code",
   "execution_count": 104,
   "metadata": {},
   "outputs": [],
   "source": [
    "chimpanzee = \"CACGCCTCCCCGGTCAAGACAAGAG\"\n",
    "homo_sapiens = \"CAAGCCTCCCCGGTCAAGACAAGAG\""
   ]
  },
  {
   "cell_type": "markdown",
   "metadata": {},
   "source": [
    "The alignment score is then computed by summing the PSSM matrix values for the given sequence"
   ]
  },
  {
   "cell_type": "code",
   "execution_count": 105,
   "metadata": {},
   "outputs": [],
   "source": [
    "def get_pssm_alignment(sequence, pssm):\n",
    "    sum = 0\n",
    "    for i in range(len(sequence)):\n",
    "        sum += pssm[sequence[i]][i]\n",
    "\n",
    "    return sum"
   ]
  },
  {
   "cell_type": "code",
   "execution_count": 106,
   "metadata": {},
   "outputs": [
    {
     "name": "stdout",
     "output_type": "stream",
     "text": [
      "Score: 1.9055061580438526\n"
     ]
    }
   ],
   "source": [
    "alignment_chimpanzee = get_pssm_alignment(chimpanzee, pssm)\n",
    "print(\"Score:\", alignment_chimpanzee)"
   ]
  },
  {
   "cell_type": "code",
   "execution_count": 107,
   "metadata": {},
   "outputs": [
    {
     "name": "stdout",
     "output_type": "stream",
     "text": [
      "Score: 1.490468658765007\n"
     ]
    }
   ],
   "source": [
    "alignmment_homo_sapiens = get_pssm_alignment(homo_sapiens, pssm)\n",
    "print(\"Score:\", alignmment_homo_sapiens)"
   ]
  }
 ],
 "metadata": {
  "kernelspec": {
   "display_name": "Python 3",
   "language": "python",
   "name": "python3"
  },
  "language_info": {
   "codemirror_mode": {
    "name": "ipython",
    "version": 3
   },
   "file_extension": ".py",
   "mimetype": "text/x-python",
   "name": "python",
   "nbconvert_exporter": "python",
   "pygments_lexer": "ipython3",
   "version": "3.10.10"
  }
 },
 "nbformat": 4,
 "nbformat_minor": 2
}
